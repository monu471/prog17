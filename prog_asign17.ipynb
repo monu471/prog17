{
 "cells": [
  {
   "cell_type": "code",
   "execution_count": null,
   "id": "335e225d",
   "metadata": {},
   "outputs": [],
   "source": [
    "# Question1. Create a function that takes three arguments a, b, c and returns the sum of the\n",
    "# numbers that are evenly divided by c from the range a, b inclusive.\n",
    "# Examples\n",
    "# evenly_divisible(1, 10, 20) ➞ 0\n",
    "# # No number between 1 and 10 can be evenly divided by 20.\n",
    "# evenly_divisible(1, 10, 2) ➞ 30\n",
    "# # 2 + 4 + 6 + 8 + 10 = 30\n",
    "# evenly_divisible(1, 10, 3) ➞ 18\n",
    "# # 3 + 6 + 9 = 18\n",
    "def evenly_divisible(a,b,c):\n",
    "    l = []\n",
    "    for i in range(a,b+1):\n",
    "        if i%c==0:\n",
    "            l.append(i)\n",
    "        else:\n",
    "            pass\n",
    "    return(sum(l))    \n",
    "        "
   ]
  },
  {
   "cell_type": "code",
   "execution_count": 11,
   "id": "62b92026",
   "metadata": {},
   "outputs": [],
   "source": [
    "# Question2. Create a function that returns True if a given inequality expression is correct and False otherwise.\n",
    "# Examples\n",
    "# correct_signs(\"3 < 7 < 11\") ➞ True\n",
    "\n",
    "# correct_signs(\"13 > 44 > 33 > 1\") ➞ False\n",
    "\n",
    "# correct_signs(\"1 < 2 < 6 < 9 > 3\") ➞ True\n",
    "def check(s):\n",
    "    regex=eval(s)\n",
    "    if regex:\n",
    "        return True\n",
    "    else:\n",
    "        return False \n",
    "\n",
    "    \n",
    "    \n",
    "\n",
    "    \n",
    "        \n"
   ]
  },
  {
   "cell_type": "code",
   "execution_count": 13,
   "id": "93269c47",
   "metadata": {},
   "outputs": [
    {
     "data": {
      "text/plain": [
       "True"
      ]
     },
     "execution_count": 13,
     "metadata": {},
     "output_type": "execute_result"
    }
   ],
   "source": [
    "s= \"3 < 7 < 11\"\n",
    "check(s)"
   ]
  },
  {
   "cell_type": "code",
   "execution_count": 26,
   "id": "c5524bbb",
   "metadata": {},
   "outputs": [],
   "source": [
    "# Question3. Create a function that replaces all the vowels in a string with a specified character.\n",
    "# Examples\n",
    "# replace_vowels(\"the aardvark\", \"#\") ➞ \"th# ##rdv#rk\"\n",
    "\n",
    "# replace_vowels(\"minnie mouse\", \"?\") ➞ \"m?nn?? m??s?\"\n",
    "\n",
    "# replace_vowels(\"shakespeare\", \"*\") ➞ \"sh*k*sp**r*\n",
    "\n",
    "def replace_vowels(a,b):\n",
    "    vowels = \"AEIOUaeiou\"\n",
    "    for i in vowels:\n",
    "        a = a.replace(i,b)\n",
    "    return a"
   ]
  },
  {
   "cell_type": "code",
   "execution_count": 5,
   "id": "588948b0",
   "metadata": {},
   "outputs": [
    {
     "name": "stdout",
     "output_type": "stream",
     "text": [
      "enter a number5\n",
      "120\n"
     ]
    }
   ],
   "source": [
    "# Write a function that calculates the factorial of a number recursively.\n",
    "def fac(n):\n",
    "    if n == 0 or n==1:\n",
    "        return 1\n",
    "    else:\n",
    "        return n*fac(n-1)\n",
    "\n",
    "qw = int(input(\"enter a number\"))    \n",
    "if qw==1 or qw==0:\n",
    "    print(1)\n",
    "else:\n",
    "    print(fac(qw))"
   ]
  },
  {
   "cell_type": "code",
   "execution_count": 8,
   "id": "83c5730b",
   "metadata": {},
   "outputs": [],
   "source": [
    "# Hamming distance is the number of characters that differ between two strings.\n",
    "# To illustrate:\n",
    "# String1: \"abcbba\"\n",
    "# String2: \"abcbda\"\n",
    "\n",
    "# Hamming Distance: 1 - \"b\" vs. \"d\" is the only difference.\n",
    "# Create a function that computes the hamming distance between two strings.\n",
    "def hamming_distance(a,b):\n",
    "    sum = 0\n",
    "    for i in range(0,len(a)):\n",
    "        if a[i] == b[i] :\n",
    "            sum = sum+1\n",
    "        else:\n",
    "            pass\n",
    "    return(sum)    \n",
    "    \n"
   ]
  },
  {
   "cell_type": "code",
   "execution_count": null,
   "id": "6914e47e",
   "metadata": {},
   "outputs": [],
   "source": []
  }
 ],
 "metadata": {
  "kernelspec": {
   "display_name": "Python 3 (ipykernel)",
   "language": "python",
   "name": "python3"
  },
  "language_info": {
   "codemirror_mode": {
    "name": "ipython",
    "version": 3
   },
   "file_extension": ".py",
   "mimetype": "text/x-python",
   "name": "python",
   "nbconvert_exporter": "python",
   "pygments_lexer": "ipython3",
   "version": "3.9.12"
  }
 },
 "nbformat": 4,
 "nbformat_minor": 5
}
